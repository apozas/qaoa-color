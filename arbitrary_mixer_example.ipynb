{
 "cells": [
  {
   "cell_type": "code",
   "execution_count": null,
   "metadata": {},
   "outputs": [],
   "source": [
    "from functools import reduce\n",
    "from itertools import product\n",
    "\n",
    "from qiskit import BasicAer, QuantumRegister\n",
    "from qiskit_aqua import QuantumInstance\n",
    "from qiskit_aqua import Operator, run_algorithm\n",
    "from qiskit.quantum_info import Pauli\n",
    "from qiskit_aqua.components.optimizers import COBYLA\n",
    "\n",
    "from constrainedqaoa import constrainedQAOA\n",
    "\n",
    "import numpy as np"
   ]
  },
  {
   "cell_type": "code",
   "execution_count": null,
   "metadata": {},
   "outputs": [],
   "source": [
    "edges = [(0, 0)]\n",
    "vertices = 1\n",
    "colors   = 2\n",
    "n_qubits = vertices * colors\n",
    "\n",
    "zr = np.zeros(n_qubits)\n",
    "ws = np.eye(n_qubits)\n",
    "\n",
    "cost_operator = reduce(\n",
    "            lambda x, y: x + y,\n",
    "            [\n",
    "                Operator([[1, (Pauli(ws[colors*v1 + j, :], zr)\n",
    "                               *Pauli(ws[colors*v2 + j, :], zr))]])\n",
    "                for (v1, v2), j in product(edges, range(colors))\n",
    "            ]\n",
    ")\n",
    "\n",
    "mixer_operator = reduce(\n",
    "            lambda x, y: x + y,\n",
    "            [\n",
    "                Operator([[1, (Pauli(zr, ws[colors*i + j, :])\n",
    "                               *Pauli(zr, ws[colors*i + (j+1) % colors, :]))]]) +\n",
    "                Operator([[1, (Pauli(ws[colors*i + j % colors, :], ws[colors*i + j % colors, :])\n",
    "                               *Pauli(ws[colors*i + (j+1) % colors, :], ws[colors*i + (j+1) % colors, :]))]])\n",
    "                for i, j in product(range(vertices), range(colors))\n",
    "            ]\n",
    ")\n",
    "if colors == 2:\n",
    "    mixer_operator.scaling_coeff(1/2)"
   ]
  },
  {
   "cell_type": "code",
   "execution_count": null,
   "metadata": {},
   "outputs": [],
   "source": [
    "print(mixer_operator.print_operators())"
   ]
  },
  {
   "cell_type": "code",
   "execution_count": null,
   "metadata": {
    "scrolled": false
   },
   "outputs": [],
   "source": [
    "what = 'circuit'\n",
    "circ = mixer_operator.evolve(np.eye(4), np.pi*0.35, what, 1, QuantumRegister(2))\n",
    "if what == 'matrix':\n",
    "    print(np.round(circ, 4))\n",
    "elif what == 'circuit':\n",
    "    print(circ.draw())"
   ]
  },
  {
   "cell_type": "code",
   "execution_count": null,
   "metadata": {},
   "outputs": [],
   "source": [
    "cobyla = COBYLA()\n",
    "cobyla.set_options(maxiter=250)\n",
    "\n",
    "constrained = constrainedQAOA(cost_operator, cobyla, mixer_operator, 1)"
   ]
  },
  {
   "cell_type": "code",
   "execution_count": null,
   "metadata": {},
   "outputs": [],
   "source": [
    "backend = BasicAer.get_backend('statevector_simulator')\n",
    "seed = 50\n",
    "constrained.random_seed = seed\n",
    "\n",
    "quantum_instance = QuantumInstance(backend=backend, seed=seed, seed_mapper=seed)\n",
    "\n",
    "result = constrained.run(quantum_instance)"
   ]
  },
  {
   "cell_type": "code",
   "execution_count": null,
   "metadata": {},
   "outputs": [],
   "source": [
    "result['eigvecs']"
   ]
  },
  {
   "cell_type": "code",
   "execution_count": null,
   "metadata": {},
   "outputs": [],
   "source": []
  }
 ],
 "metadata": {
  "kernelspec": {
   "display_name": "Python 3",
   "language": "python",
   "name": "python3"
  },
  "language_info": {
   "codemirror_mode": {
    "name": "ipython",
    "version": 3
   },
   "file_extension": ".py",
   "mimetype": "text/x-python",
   "name": "python",
   "nbconvert_exporter": "python",
   "pygments_lexer": "ipython3",
   "version": "3.6.5"
  }
 },
 "nbformat": 4,
 "nbformat_minor": 2
}
