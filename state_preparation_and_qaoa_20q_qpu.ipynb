{
 "cells": [
  {
   "cell_type": "markdown",
   "metadata": {},
   "source": [
    "# Graph Coloring on 20 qubit QPU"
   ]
  },
  {
   "cell_type": "markdown",
   "metadata": {},
   "source": [
    "## First, import requisite modules to define new QAOA class"
   ]
  },
  {
   "cell_type": "code",
   "execution_count": null,
   "metadata": {
    "collapsed": false,
    "deletable": true,
    "editable": true
   },
   "outputs": [],
   "source": [
    "# Copied and modified from qiskit_aqua.algorithms.adaptive.qaoa.qaoa.py\n",
    "# and qiskit_aqua.algorithms.adaptive.qaoa.varform.py\n",
    "# =============================================================================\n",
    "\n",
    "import logging\n",
    "\n",
    "from qiskit_aqua.algorithms import QuantumAlgorithm\n",
    "from qiskit_aqua import AquaError, PluggableType, get_pluggable_class\n",
    "from qiskit_aqua.algorithms.adaptive import VQE\n",
    "from qiskit_aqua.algorithms.adaptive.qaoa.varform import QAOAVarForm\n",
    "\n",
    "logger = logging.getLogger(__name__)\n",
    "\n",
    "\n",
    "class constrainedQAOA(VQE):\n",
    "    \"\"\"\n",
    "    The Quantum Approximate Optimization Algorithm.\n",
    "    See https://arxiv.org/abs/1411.4028\n",
    "    \"\"\"\n",
    "\n",
    "    CONFIGURATION = {\n",
    "        'name': 'QAOA.Variational',\n",
    "        'description': 'Quantum Approximate Optimization Algorithm',\n",
    "        'input_schema': {\n",
    "            '$schema': 'http://json-schema.org/schema#',\n",
    "            'id': 'qaoa_schema',\n",
    "            'type': 'object',\n",
    "            'properties': {\n",
    "                'operator_mode': {\n",
    "                    'type': 'string',\n",
    "                    'default': 'matrix',\n",
    "                    'oneOf': [\n",
    "                        {'enum': ['matrix', 'paulis', 'grouped_paulis']}\n",
    "                    ]\n",
    "                },\n",
    "                'p': {\n",
    "                    'type': 'integer',\n",
    "                    'default': 1,\n",
    "                    'minimum': 1\n",
    "                },\n",
    "                'initial_point': {\n",
    "                    'type': ['array', 'null'],\n",
    "                    \"items\": {\n",
    "                        \"type\": \"number\"\n",
    "                    },\n",
    "                    'default': None\n",
    "                },\n",
    "                'batch_mode': {\n",
    "                    'type': 'boolean',\n",
    "                    'default': False\n",
    "                }\n",
    "            },\n",
    "            'additionalProperties': False\n",
    "        },\n",
    "        'problems': ['ising'],\n",
    "        'depends': ['optimizer'],\n",
    "        'defaults': {\n",
    "            'optimizer': {\n",
    "                'name': 'COBYLA'\n",
    "            },\n",
    "        }\n",
    "    }\n",
    "\n",
    "    def __init__(self, cost, optimizer, mixer, p=1, initial_state=None, operator_mode='matrix', initial_point=None,\n",
    "                 batch_mode=False, aux_operators=None):\n",
    "        \"\"\"\n",
    "        Args:\n",
    "            operator (Operator): Qubit operator\n",
    "            operator_mode (str): operator mode, used for eval of operator\n",
    "            p (int) : the integer parameter p as specified in https://arxiv.org/abs/1411.4028\n",
    "            optimizer (Optimizer) : the classical optimization algorithm.\n",
    "            initial_point (numpy.ndarray) : optimizer initial point.\n",
    "        \"\"\"\n",
    "        self.validate(locals())\n",
    "        var_form = constrainedQAOAVarForm(cost, p, mixer, initial_state)\n",
    "        super().__init__(cost, var_form, optimizer,\n",
    "                         operator_mode=operator_mode, initial_point=initial_point)\n",
    "\n",
    "    @classmethod\n",
    "    def init_params(cls, params, algo_input):\n",
    "        \"\"\"\n",
    "        Initialize via parameters dictionary and algorithm input instance\n",
    "        Args:\n",
    "            params (dict): parameters dictionary\n",
    "            algo_input (EnergyInput): EnergyInput instance\n",
    "        \"\"\"\n",
    "        if algo_input is None:\n",
    "            raise AquaError(\"EnergyInput instance is required.\")\n",
    "\n",
    "        operator = algo_input.qubit_op\n",
    "\n",
    "        qaoa_params = params.get(QuantumAlgorithm.SECTION_KEY_ALGORITHM)\n",
    "        operator_mode = qaoa_params.get('operator_mode')\n",
    "        p = qaoa_params.get('p')\n",
    "        initial_point = qaoa_params.get('initial_point')\n",
    "        batch_mode = qaoa_params.get('batch_mode')\n",
    "\n",
    "        # Set up optimizer\n",
    "        opt_params = params.get(QuantumAlgorithm.SECTION_KEY_OPTIMIZER)\n",
    "        optimizer = get_pluggable_class(PluggableType.OPTIMIZER,\n",
    "                                        opt_params['name']).init_params(opt_params)\n",
    "\n",
    "        return cls(operator, optimizer, p=p, operator_mode=operator_mode,\n",
    "                   initial_point=initial_point, batch_mode=batch_mode,\n",
    "                   aux_operators=algo_input.aux_ops)\n",
    "\n",
    "class constrainedQAOAVarForm(QAOAVarForm):\n",
    "    def __init__(self, cost_operator, p, mixer_operator=None, initial_state=None):\n",
    "        super().__init__(cost_operator, p, initial_state)\n",
    "\n",
    "        if mixer_operator is None:\n",
    "            v = np.zeros(self._cost_operator.num_qubits)\n",
    "            ws = np.eye(self._cost_operator.num_qubits)\n",
    "            self._mixer_operator = reduce(\n",
    "                lambda x, y: x + y,\n",
    "                [\n",
    "                    Operator([[1, Pauli(v, ws[i, :])]])\n",
    "                    for i in range(self._cost_operator.num_qubits)\n",
    "                ]\n",
    "            )\n",
    "        else:\n",
    "            self._mixer_operator = mixer_operator"
   ]
  },
  {
   "cell_type": "markdown",
   "metadata": {},
   "source": [
    "## More imports"
   ]
  },
  {
   "cell_type": "code",
   "execution_count": null,
   "metadata": {
    "collapsed": false,
    "deletable": true,
    "editable": true
   },
   "outputs": [],
   "source": [
    "from functools import reduce\n",
    "from itertools import product\n",
    "\n",
    "from qiskit import BasicAer, QuantumRegister\n",
    "from qiskit_aqua import QuantumInstance\n",
    "from qiskit_aqua import Operator, run_algorithm\n",
    "from qiskit.quantum_info import Pauli\n",
    "from qiskit_aqua.components.optimizers import COBYLA\n",
    "from qiskit_aqua.components.initial_states import Custom\n",
    "\n",
    "#from constrainedqaoa import constrainedQAOA\n",
    "\n",
    "import numpy as np\n",
    "import qutip as qt"
   ]
  },
  {
   "cell_type": "markdown",
   "metadata": {
    "deletable": true,
    "editable": true
   },
   "source": [
    "Initial parameter setting\n",
    "---"
   ]
  },
  {
   "cell_type": "code",
   "execution_count": null,
   "metadata": {
    "collapsed": false,
    "deletable": true,
    "editable": true
   },
   "outputs": [],
   "source": [
    "edges = [(0, 1), (1, 2), (2, 0)]\n",
    "vertices = 3\n",
    "colors = 3\n",
    "n_qubits = vertices * colors\n",
    "\n",
    "zr = np.zeros(n_qubits)\n",
    "ws = np.eye(n_qubits)\n",
    "\n",
    "up = qt.basis(2, 0)\n",
    "dn = qt.basis(2, 1)"
   ]
  },
  {
   "cell_type": "markdown",
   "metadata": {
    "deletable": true,
    "editable": true
   },
   "source": [
    "Now, let's prepare the initial state\n",
    "---\n",
    "Recall we want a tensor product of a (# of colors)-qubits W state for each vertex"
   ]
  },
  {
   "cell_type": "code",
   "execution_count": null,
   "metadata": {
    "collapsed": true,
    "deletable": true,
    "editable": true
   },
   "outputs": [],
   "source": [
    "def W(size, copies):\n",
    "    initial_list = [dn] + [up] * (size - 1)\n",
    "    cycles = [[initial_list[i - j] for i in range(size)] for j in range(size)]\n",
    "    W_1copy = sum([qt.tensor(states) for states in cycles])\n",
    "    return qt.tensor([W_1copy] * copies)"
   ]
  },
  {
   "cell_type": "code",
   "execution_count": null,
   "metadata": {
    "collapsed": false,
    "deletable": true,
    "editable": true
   },
   "outputs": [],
   "source": [
    "amplitudes = W(colors, vertices).full().T.tolist()[0]\n",
    "init_state = Custom(n_qubits, state_vector=amplitudes)"
   ]
  },
  {
   "cell_type": "code",
   "execution_count": null,
   "metadata": {
    "collapsed": false,
    "deletable": true,
    "editable": true
   },
   "outputs": [],
   "source": [
    "W(colors, vertices)"
   ]
  },
  {
   "cell_type": "markdown",
   "metadata": {
    "deletable": true,
    "editable": true
   },
   "source": [
    "Second, define the cost and mixer Hamiltonians, and assemble the QAOA\n",
    "---"
   ]
  },
  {
   "cell_type": "code",
   "execution_count": null,
   "metadata": {
    "collapsed": false,
    "deletable": true,
    "editable": true
   },
   "outputs": [],
   "source": [
    "cost_operator = reduce(\n",
    "            lambda x, y: x + y,\n",
    "            [\n",
    "                Operator([[1, (Pauli(ws[colors*v1 + j, :], zr)\n",
    "                               *Pauli(ws[colors*v2 + j, :], zr))]])\n",
    "                for (v1, v2), j in product(edges, range(colors))\n",
    "            ]\n",
    ")\n",
    "\n",
    "mixer_operator = reduce(\n",
    "            lambda x, y: x + y,\n",
    "            [\n",
    "                Operator([[1, (Pauli(zr, ws[colors*i + j, :])\n",
    "                               *Pauli(zr, ws[colors*i + (j+1) % colors, :]))]]) +\n",
    "                Operator([[1, (Pauli(ws[colors*i + j % colors, :], ws[colors*i + j % colors, :])\n",
    "                               *Pauli(ws[colors*i + (j+1) % colors, :], ws[colors*i + (j+1) % colors, :]))]])\n",
    "                for i, j in product(range(vertices), range(colors))\n",
    "            ]\n",
    ")\n",
    "\n",
    "# Fix redundancies\n",
    "if colors == 2:\n",
    "    mixer_operator.scaling_coeff(1/2)"
   ]
  },
  {
   "cell_type": "code",
   "execution_count": null,
   "metadata": {
    "collapsed": false,
    "deletable": true,
    "editable": true
   },
   "outputs": [],
   "source": [
    "cobyla = COBYLA()\n",
    "cobyla.set_options(maxiter=250)\n",
    "p = 1 # steps of QAOA\n",
    "constrained = constrainedQAOA(cost_operator, cobyla, mixer_operator, p, init_state)"
   ]
  },
  {
   "cell_type": "markdown",
   "metadata": {},
   "source": [
    "# For IBMer to input backend information..."
   ]
  },
  {
   "cell_type": "code",
   "execution_count": null,
   "metadata": {
    "collapsed": false,
    "deletable": true,
    "editable": true
   },
   "outputs": [],
   "source": [
    "from qiskit import IBMQ\n",
    "IBMQ.load_accounts()\n",
    "\n",
    "\n",
    "# Please input the 20 qubit architecture!\n",
    "backend = IBMQ.get_backend('ibmq_20_tokyo')"
   ]
  },
  {
   "cell_type": "markdown",
   "metadata": {
    "deletable": true,
    "editable": true
   },
   "source": [
    "And finally, run\n",
    "---"
   ]
  },
  {
   "cell_type": "code",
   "execution_count": null,
   "metadata": {
    "collapsed": false,
    "deletable": true,
    "editable": true,
    "scrolled": false
   },
   "outputs": [],
   "source": [
    "quantum_instance = QuantumInstance(backend=backend_melbourne)\n",
    "\n",
    "result = constrained.run(quantum_instance)"
   ]
  },
  {
   "cell_type": "code",
   "execution_count": null,
   "metadata": {
    "collapsed": false,
    "deletable": true,
    "editable": true
   },
   "outputs": [],
   "source": [
    "result['eigvals']"
   ]
  },
  {
   "cell_type": "markdown",
   "metadata": {
    "deletable": true,
    "editable": true
   },
   "source": [
    "The state that achieves this value is"
   ]
  },
  {
   "cell_type": "code",
   "execution_count": null,
   "metadata": {
    "collapsed": false,
    "deletable": true,
    "editable": true
   },
   "outputs": [],
   "source": [
    "np.round(result['eigvecs'], 4)"
   ]
  },
  {
   "cell_type": "code",
   "execution_count": null,
   "metadata": {
    "collapsed": false,
    "deletable": true,
    "editable": true
   },
   "outputs": [],
   "source": [
    "result['eval_count']"
   ]
  },
  {
   "cell_type": "code",
   "execution_count": null,
   "metadata": {
    "collapsed": true,
    "deletable": true,
    "editable": true
   },
   "outputs": [],
   "source": [
    "np.savetxt('3_triangle_3colors_p1_20q_qpu', result['eigvecs'][0])"
   ]
  }
 ],
 "metadata": {
  "kernelspec": {
   "display_name": "Python 3",
   "language": "python",
   "name": "python3"
  },
  "language_info": {
   "codemirror_mode": {
    "name": "ipython",
    "version": 3
   },
   "file_extension": ".py",
   "mimetype": "text/x-python",
   "name": "python",
   "nbconvert_exporter": "python",
   "pygments_lexer": "ipython3",
   "version": "3.6.1"
  }
 },
 "nbformat": 4,
 "nbformat_minor": 2
}
