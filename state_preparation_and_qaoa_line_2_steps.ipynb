{
 "cells": [
  {
   "cell_type": "code",
   "execution_count": 1,
   "metadata": {
    "collapsed": false
   },
   "outputs": [
    {
     "name": "stderr",
     "output_type": "stream",
     "text": [
      "/Library/Frameworks/Python.framework/Versions/3.6/lib/python3.6/site-packages/marshmallow/schema.py:364: ChangedInMarshmallow3Warning: strict=False is not recommended. In marshmallow 3.0, schemas will always be strict. See https://marshmallow.readthedocs.io/en/latest/upgrading.html#schemas-are-always-strict\n",
      "  ChangedInMarshmallow3Warning\n"
     ]
    },
    {
     "data": {
      "text/plain": [
       "'0.7.0'"
      ]
     },
     "execution_count": 1,
     "metadata": {},
     "output_type": "execute_result"
    }
   ],
   "source": [
    "import qiskit\n",
    "qiskit.__version__"
   ]
  },
  {
   "cell_type": "code",
   "execution_count": 2,
   "metadata": {
    "collapsed": false,
    "deletable": true,
    "editable": true
   },
   "outputs": [],
   "source": [
    "from functools import reduce\n",
    "from itertools import product\n",
    "\n",
    "from qiskit import BasicAer, QuantumRegister\n",
    "from qiskit_aqua import QuantumInstance\n",
    "from qiskit_aqua import Operator, run_algorithm\n",
    "from qiskit.quantum_info import Pauli\n",
    "from qiskit_aqua.components.optimizers import COBYLA\n",
    "from qiskit_aqua.components.initial_states import Custom\n",
    "\n",
    "from constrainedqaoa import constrainedQAOA\n",
    "\n",
    "import numpy as np\n",
    "import qutip as qt"
   ]
  },
  {
   "cell_type": "markdown",
   "metadata": {
    "deletable": true,
    "editable": true
   },
   "source": [
    "Initial parameter setting\n",
    "---"
   ]
  },
  {
   "cell_type": "code",
   "execution_count": 3,
   "metadata": {
    "collapsed": false,
    "deletable": true,
    "editable": true
   },
   "outputs": [],
   "source": [
    "edges = [(0, 1), (1, 2), (2, 3)]\n",
    "vertices = 4\n",
    "colors = 2\n",
    "n_qubits = vertices * colors\n",
    "\n",
    "zr = np.zeros(n_qubits)\n",
    "ws = np.eye(n_qubits)\n",
    "\n",
    "up = qt.basis(2, 0)\n",
    "dn = qt.basis(2, 1)"
   ]
  },
  {
   "cell_type": "code",
   "execution_count": null,
   "metadata": {
    "collapsed": false,
    "deletable": true,
    "editable": true
   },
   "outputs": [],
   "source": [
    "reduce(\n",
    "            lambda x, y: x + y, [list(edge) for edge in edges])"
   ]
  },
  {
   "cell_type": "markdown",
   "metadata": {
    "deletable": true,
    "editable": true
   },
   "source": [
    "First, prepare the initial state\n",
    "---\n",
    "Recall we want a tensor product of a (# of colors)-qubits W state for each vertex"
   ]
  },
  {
   "cell_type": "code",
   "execution_count": 4,
   "metadata": {
    "collapsed": true,
    "deletable": true,
    "editable": true
   },
   "outputs": [],
   "source": [
    "def W(size, copies):\n",
    "    initial_list = [dn] + [up] * (size - 1)\n",
    "    cycles = [[initial_list[i - j] for i in range(size)] for j in range(size)]\n",
    "    W_1copy = sum([qt.tensor(states) for states in cycles])\n",
    "    return qt.tensor([W_1copy] * copies)"
   ]
  },
  {
   "cell_type": "code",
   "execution_count": 5,
   "metadata": {
    "collapsed": false,
    "deletable": true,
    "editable": true
   },
   "outputs": [],
   "source": [
    "amplitudes = W(colors, vertices).full().T.tolist()[0]\n",
    "init_state = Custom(n_qubits, state_vector=amplitudes)"
   ]
  },
  {
   "cell_type": "code",
   "execution_count": 6,
   "metadata": {
    "collapsed": false,
    "deletable": true,
    "editable": true
   },
   "outputs": [
    {
     "data": {
      "text/latex": [
       "Quantum object: dims = [[2, 2, 2, 2, 2, 2, 2, 2], [1, 1, 1, 1, 1, 1, 1, 1]], shape = (256, 1), type = ket\\begin{equation*}\\left(\\begin{array}{*{11}c}0.0\\\\0.0\\\\0.0\\\\0.0\\\\0.0\\\\\\vdots\\\\0.0\\\\0.0\\\\0.0\\\\0.0\\\\0.0\\\\\\end{array}\\right)\\end{equation*}"
      ],
      "text/plain": [
       "Quantum object: dims = [[2, 2, 2, 2, 2, 2, 2, 2], [1, 1, 1, 1, 1, 1, 1, 1]], shape = (256, 1), type = ket\n",
       "Qobj data =\n",
       "[[0.]\n",
       " [0.]\n",
       " [0.]\n",
       " [0.]\n",
       " [0.]\n",
       " [0.]\n",
       " [0.]\n",
       " [0.]\n",
       " [0.]\n",
       " [0.]\n",
       " [0.]\n",
       " [0.]\n",
       " [0.]\n",
       " [0.]\n",
       " [0.]\n",
       " [0.]\n",
       " [0.]\n",
       " [0.]\n",
       " [0.]\n",
       " [0.]\n",
       " [0.]\n",
       " [0.]\n",
       " [0.]\n",
       " [0.]\n",
       " [0.]\n",
       " [0.]\n",
       " [0.]\n",
       " [0.]\n",
       " [0.]\n",
       " [0.]\n",
       " [0.]\n",
       " [0.]\n",
       " [0.]\n",
       " [0.]\n",
       " [0.]\n",
       " [0.]\n",
       " [0.]\n",
       " [0.]\n",
       " [0.]\n",
       " [0.]\n",
       " [0.]\n",
       " [0.]\n",
       " [0.]\n",
       " [0.]\n",
       " [0.]\n",
       " [0.]\n",
       " [0.]\n",
       " [0.]\n",
       " [0.]\n",
       " [0.]\n",
       " [0.]\n",
       " [0.]\n",
       " [0.]\n",
       " [0.]\n",
       " [0.]\n",
       " [0.]\n",
       " [0.]\n",
       " [0.]\n",
       " [0.]\n",
       " [0.]\n",
       " [0.]\n",
       " [0.]\n",
       " [0.]\n",
       " [0.]\n",
       " [0.]\n",
       " [0.]\n",
       " [0.]\n",
       " [0.]\n",
       " [0.]\n",
       " [0.]\n",
       " [0.]\n",
       " [0.]\n",
       " [0.]\n",
       " [0.]\n",
       " [0.]\n",
       " [0.]\n",
       " [0.]\n",
       " [0.]\n",
       " [0.]\n",
       " [0.]\n",
       " [0.]\n",
       " [0.]\n",
       " [0.]\n",
       " [0.]\n",
       " [0.]\n",
       " [1.]\n",
       " [1.]\n",
       " [0.]\n",
       " [0.]\n",
       " [1.]\n",
       " [1.]\n",
       " [0.]\n",
       " [0.]\n",
       " [0.]\n",
       " [0.]\n",
       " [0.]\n",
       " [0.]\n",
       " [0.]\n",
       " [0.]\n",
       " [0.]\n",
       " [0.]\n",
       " [1.]\n",
       " [1.]\n",
       " [0.]\n",
       " [0.]\n",
       " [1.]\n",
       " [1.]\n",
       " [0.]\n",
       " [0.]\n",
       " [0.]\n",
       " [0.]\n",
       " [0.]\n",
       " [0.]\n",
       " [0.]\n",
       " [0.]\n",
       " [0.]\n",
       " [0.]\n",
       " [0.]\n",
       " [0.]\n",
       " [0.]\n",
       " [0.]\n",
       " [0.]\n",
       " [0.]\n",
       " [0.]\n",
       " [0.]\n",
       " [0.]\n",
       " [0.]\n",
       " [0.]\n",
       " [0.]\n",
       " [0.]\n",
       " [0.]\n",
       " [0.]\n",
       " [0.]\n",
       " [0.]\n",
       " [0.]\n",
       " [0.]\n",
       " [0.]\n",
       " [0.]\n",
       " [0.]\n",
       " [0.]\n",
       " [0.]\n",
       " [0.]\n",
       " [0.]\n",
       " [0.]\n",
       " [0.]\n",
       " [0.]\n",
       " [0.]\n",
       " [0.]\n",
       " [0.]\n",
       " [1.]\n",
       " [1.]\n",
       " [0.]\n",
       " [0.]\n",
       " [1.]\n",
       " [1.]\n",
       " [0.]\n",
       " [0.]\n",
       " [0.]\n",
       " [0.]\n",
       " [0.]\n",
       " [0.]\n",
       " [0.]\n",
       " [0.]\n",
       " [0.]\n",
       " [0.]\n",
       " [1.]\n",
       " [1.]\n",
       " [0.]\n",
       " [0.]\n",
       " [1.]\n",
       " [1.]\n",
       " [0.]\n",
       " [0.]\n",
       " [0.]\n",
       " [0.]\n",
       " [0.]\n",
       " [0.]\n",
       " [0.]\n",
       " [0.]\n",
       " [0.]\n",
       " [0.]\n",
       " [0.]\n",
       " [0.]\n",
       " [0.]\n",
       " [0.]\n",
       " [0.]\n",
       " [0.]\n",
       " [0.]\n",
       " [0.]\n",
       " [0.]\n",
       " [0.]\n",
       " [0.]\n",
       " [0.]\n",
       " [0.]\n",
       " [0.]\n",
       " [0.]\n",
       " [0.]\n",
       " [0.]\n",
       " [0.]\n",
       " [0.]\n",
       " [0.]\n",
       " [0.]\n",
       " [0.]\n",
       " [0.]\n",
       " [0.]\n",
       " [0.]\n",
       " [0.]\n",
       " [0.]\n",
       " [0.]\n",
       " [0.]\n",
       " [0.]\n",
       " [0.]\n",
       " [0.]\n",
       " [0.]\n",
       " [0.]\n",
       " [0.]\n",
       " [0.]\n",
       " [0.]\n",
       " [0.]\n",
       " [0.]\n",
       " [0.]\n",
       " [0.]\n",
       " [0.]\n",
       " [0.]\n",
       " [0.]\n",
       " [0.]\n",
       " [0.]\n",
       " [0.]\n",
       " [0.]\n",
       " [0.]\n",
       " [0.]\n",
       " [0.]\n",
       " [0.]\n",
       " [0.]\n",
       " [0.]\n",
       " [0.]\n",
       " [0.]\n",
       " [0.]\n",
       " [0.]\n",
       " [0.]\n",
       " [0.]\n",
       " [0.]\n",
       " [0.]\n",
       " [0.]\n",
       " [0.]\n",
       " [0.]\n",
       " [0.]\n",
       " [0.]\n",
       " [0.]\n",
       " [0.]\n",
       " [0.]\n",
       " [0.]\n",
       " [0.]\n",
       " [0.]\n",
       " [0.]\n",
       " [0.]]"
      ]
     },
     "execution_count": 6,
     "metadata": {},
     "output_type": "execute_result"
    }
   ],
   "source": [
    "W(colors, vertices)"
   ]
  },
  {
   "cell_type": "markdown",
   "metadata": {
    "deletable": true,
    "editable": true
   },
   "source": [
    "Second, define the cost and mixer Hamiltonians, and assemble the QAOA\n",
    "---"
   ]
  },
  {
   "cell_type": "code",
   "execution_count": 7,
   "metadata": {
    "collapsed": false,
    "deletable": true,
    "editable": true
   },
   "outputs": [],
   "source": [
    "cost_operator = reduce(\n",
    "            lambda x, y: x + y,\n",
    "            [\n",
    "                Operator([[1, (Pauli(ws[colors*v1 + j, :], zr)\n",
    "                               *Pauli(ws[colors*v2 + j, :], zr))]])\n",
    "                for (v1, v2), j in product(edges, range(colors))\n",
    "            ]\n",
    ")\n",
    "\n",
    "mixer_operator = reduce(\n",
    "            lambda x, y: x + y,\n",
    "            [\n",
    "                Operator([[1, (Pauli(zr, ws[colors*i + j, :])\n",
    "                               *Pauli(zr, ws[colors*i + (j+1) % colors, :]))]]) +\n",
    "                Operator([[1, (Pauli(ws[colors*i + j % colors, :], ws[colors*i + j % colors, :])\n",
    "                               *Pauli(ws[colors*i + (j+1) % colors, :], ws[colors*i + (j+1) % colors, :]))]])\n",
    "                for i, j in product(range(vertices), range(colors))\n",
    "            ]\n",
    ")\n",
    "\n",
    "# Fix redundancies\n",
    "if colors == 2:\n",
    "    mixer_operator.scaling_coeff(1/2)"
   ]
  },
  {
   "cell_type": "code",
   "execution_count": 8,
   "metadata": {
    "collapsed": false,
    "deletable": true,
    "editable": true
   },
   "outputs": [],
   "source": [
    "cobyla = COBYLA()\n",
    "cobyla.set_options(maxiter=250)\n",
    "p = 2 # steps of QAOA\n",
    "constrained = constrainedQAOA(cost_operator, cobyla, mixer_operator, p, init_state)"
   ]
  },
  {
   "cell_type": "markdown",
   "metadata": {
    "deletable": true,
    "editable": true
   },
   "source": [
    "And finally, run\n",
    "---"
   ]
  },
  {
   "cell_type": "code",
   "execution_count": 13,
   "metadata": {
    "collapsed": false,
    "deletable": true,
    "editable": true,
    "scrolled": false
   },
   "outputs": [],
   "source": [
    "from qiskit import BasicAer\n",
    "\n",
    "\n",
    "backend = BasicAer.get_backend('statevector_simulator')\n",
    "seed = 50\n",
    "constrained.random_seed = seed\n",
    "\n",
    "quantum_instance = QuantumInstance(backend=backend, seed=seed, seed_mapper=seed)\n",
    "\n",
    "result = constrained.run(quantum_instance)"
   ]
  },
  {
   "cell_type": "markdown",
   "metadata": {
    "deletable": true,
    "editable": true
   },
   "source": [
    "It is not possible to color a triangle with 2 colors, and the penalty should be 2"
   ]
  },
  {
   "cell_type": "code",
   "execution_count": 14,
   "metadata": {
    "collapsed": false,
    "deletable": true,
    "editable": true
   },
   "outputs": [
    {
     "data": {
      "text/plain": [
       "array([-4.92829552])"
      ]
     },
     "execution_count": 14,
     "metadata": {},
     "output_type": "execute_result"
    }
   ],
   "source": [
    "result['eigvals']"
   ]
  },
  {
   "cell_type": "markdown",
   "metadata": {
    "deletable": true,
    "editable": true
   },
   "source": [
    "The state that achieves this value is"
   ]
  },
  {
   "cell_type": "code",
   "execution_count": 15,
   "metadata": {
    "collapsed": false,
    "deletable": true,
    "editable": true
   },
   "outputs": [
    {
     "data": {
      "text/plain": [
       "array([[ 0.    +0.000e+00j,  0.    +0.000e+00j,  0.    +0.000e+00j,\n",
       "         0.    +0.000e+00j,  0.    +0.000e+00j,  0.    +0.000e+00j,\n",
       "         0.    +0.000e+00j,  0.    +0.000e+00j,  0.    +0.000e+00j,\n",
       "         0.    +0.000e+00j,  0.    +0.000e+00j,  0.    +0.000e+00j,\n",
       "         0.    +0.000e+00j,  0.    +0.000e+00j,  0.    +0.000e+00j,\n",
       "         0.    +0.000e+00j,  0.    +0.000e+00j,  0.    +0.000e+00j,\n",
       "         0.    +0.000e+00j,  0.    +0.000e+00j,  0.    +0.000e+00j,\n",
       "         0.    +0.000e+00j,  0.    +0.000e+00j,  0.    +0.000e+00j,\n",
       "         0.    +0.000e+00j,  0.    +0.000e+00j,  0.    +0.000e+00j,\n",
       "         0.    +0.000e+00j,  0.    +0.000e+00j,  0.    +0.000e+00j,\n",
       "         0.    +0.000e+00j,  0.    +0.000e+00j,  0.    +0.000e+00j,\n",
       "         0.    +0.000e+00j,  0.    +0.000e+00j,  0.    +0.000e+00j,\n",
       "         0.    +0.000e+00j,  0.    +0.000e+00j,  0.    +0.000e+00j,\n",
       "         0.    +0.000e+00j,  0.    +0.000e+00j,  0.    +0.000e+00j,\n",
       "         0.    +0.000e+00j,  0.    +0.000e+00j,  0.    +0.000e+00j,\n",
       "         0.    +0.000e+00j,  0.    +0.000e+00j,  0.    +0.000e+00j,\n",
       "         0.    +0.000e+00j,  0.    +0.000e+00j,  0.    +0.000e+00j,\n",
       "         0.    +0.000e+00j,  0.    +0.000e+00j,  0.    +0.000e+00j,\n",
       "         0.    +0.000e+00j,  0.    +0.000e+00j,  0.    +0.000e+00j,\n",
       "         0.    +0.000e+00j,  0.    +0.000e+00j,  0.    +0.000e+00j,\n",
       "         0.    +0.000e+00j,  0.    +0.000e+00j,  0.    +0.000e+00j,\n",
       "         0.    +0.000e+00j,  0.    +0.000e+00j,  0.    +0.000e+00j,\n",
       "         0.    +0.000e+00j,  0.    +0.000e+00j,  0.    +0.000e+00j,\n",
       "         0.    +0.000e+00j,  0.    +0.000e+00j,  0.    +0.000e+00j,\n",
       "         0.    +0.000e+00j,  0.    +0.000e+00j,  0.    +0.000e+00j,\n",
       "         0.    +0.000e+00j,  0.    +0.000e+00j,  0.    +0.000e+00j,\n",
       "         0.    +0.000e+00j,  0.    +0.000e+00j,  0.    +0.000e+00j,\n",
       "         0.    +0.000e+00j,  0.    +0.000e+00j,  0.    +0.000e+00j,\n",
       "         0.    +0.000e+00j,  0.0404-6.400e-03j,  0.025 +1.960e-02j,\n",
       "         0.    +0.000e+00j,  0.    +0.000e+00j, -0.1238+8.170e-02j,\n",
       "         0.0322+1.135e-01j,  0.    +0.000e+00j,  0.    +0.000e+00j,\n",
       "         0.    +0.000e+00j,  0.    +0.000e+00j,  0.    +0.000e+00j,\n",
       "         0.    +0.000e+00j,  0.    +0.000e+00j,  0.    +0.000e+00j,\n",
       "         0.    +0.000e+00j,  0.    +0.000e+00j, -0.1238+8.170e-02j,\n",
       "        -0.1431+6.040e-01j,  0.    +0.000e+00j,  0.    +0.000e+00j,\n",
       "        -0.2304+6.000e-04j,  0.025 +1.960e-02j,  0.    +0.000e+00j,\n",
       "         0.    +0.000e+00j,  0.    +0.000e+00j,  0.    +0.000e+00j,\n",
       "         0.    +0.000e+00j,  0.    +0.000e+00j,  0.    +0.000e+00j,\n",
       "         0.    +0.000e+00j,  0.    +0.000e+00j,  0.    +0.000e+00j,\n",
       "         0.    +0.000e+00j,  0.    +0.000e+00j,  0.    +0.000e+00j,\n",
       "         0.    +0.000e+00j,  0.    +0.000e+00j,  0.    +0.000e+00j,\n",
       "         0.    +0.000e+00j,  0.    +0.000e+00j,  0.    +0.000e+00j,\n",
       "         0.    +0.000e+00j,  0.    +0.000e+00j,  0.    +0.000e+00j,\n",
       "         0.    +0.000e+00j,  0.    +0.000e+00j,  0.    +0.000e+00j,\n",
       "         0.    +0.000e+00j,  0.    +0.000e+00j,  0.    +0.000e+00j,\n",
       "         0.    +0.000e+00j,  0.    +0.000e+00j,  0.    +0.000e+00j,\n",
       "         0.    +0.000e+00j,  0.    +0.000e+00j,  0.    +0.000e+00j,\n",
       "         0.    +0.000e+00j,  0.    +0.000e+00j,  0.    +0.000e+00j,\n",
       "         0.    +0.000e+00j,  0.    +0.000e+00j,  0.    +0.000e+00j,\n",
       "         0.    +0.000e+00j,  0.    +0.000e+00j,  0.025 +1.960e-02j,\n",
       "        -0.2304+6.000e-04j,  0.    +0.000e+00j,  0.    +0.000e+00j,\n",
       "        -0.1431+6.040e-01j, -0.1238+8.170e-02j,  0.    +0.000e+00j,\n",
       "         0.    +0.000e+00j,  0.    +0.000e+00j,  0.    +0.000e+00j,\n",
       "         0.    +0.000e+00j,  0.    +0.000e+00j,  0.    +0.000e+00j,\n",
       "         0.    +0.000e+00j,  0.    +0.000e+00j,  0.    +0.000e+00j,\n",
       "         0.0322+1.135e-01j, -0.1238+8.170e-02j,  0.    +0.000e+00j,\n",
       "         0.    +0.000e+00j,  0.025 +1.960e-02j,  0.0404-6.400e-03j,\n",
       "         0.    +0.000e+00j,  0.    +0.000e+00j,  0.    +0.000e+00j,\n",
       "         0.    +0.000e+00j,  0.    +0.000e+00j,  0.    +0.000e+00j,\n",
       "         0.    +0.000e+00j,  0.    +0.000e+00j,  0.    +0.000e+00j,\n",
       "         0.    +0.000e+00j,  0.    +0.000e+00j,  0.    +0.000e+00j,\n",
       "         0.    +0.000e+00j,  0.    +0.000e+00j,  0.    +0.000e+00j,\n",
       "         0.    +0.000e+00j,  0.    +0.000e+00j,  0.    +0.000e+00j,\n",
       "         0.    +0.000e+00j,  0.    +0.000e+00j,  0.    +0.000e+00j,\n",
       "         0.    +0.000e+00j,  0.    +0.000e+00j,  0.    +0.000e+00j,\n",
       "         0.    +0.000e+00j,  0.    +0.000e+00j,  0.    +0.000e+00j,\n",
       "         0.    +0.000e+00j,  0.    +0.000e+00j,  0.    +0.000e+00j,\n",
       "         0.    +0.000e+00j,  0.    +0.000e+00j,  0.    +0.000e+00j,\n",
       "         0.    +0.000e+00j,  0.    +0.000e+00j,  0.    +0.000e+00j,\n",
       "         0.    +0.000e+00j,  0.    +0.000e+00j,  0.    +0.000e+00j,\n",
       "         0.    +0.000e+00j,  0.    +0.000e+00j,  0.    +0.000e+00j,\n",
       "         0.    +0.000e+00j,  0.    +0.000e+00j,  0.    +0.000e+00j,\n",
       "         0.    +0.000e+00j,  0.    +0.000e+00j,  0.    +0.000e+00j,\n",
       "         0.    +0.000e+00j,  0.    +0.000e+00j,  0.    +0.000e+00j,\n",
       "         0.    +0.000e+00j,  0.    +0.000e+00j,  0.    +0.000e+00j,\n",
       "         0.    +0.000e+00j,  0.    +0.000e+00j,  0.    +0.000e+00j,\n",
       "         0.    +0.000e+00j,  0.    +0.000e+00j,  0.    +0.000e+00j,\n",
       "         0.    +0.000e+00j,  0.    +0.000e+00j,  0.    +0.000e+00j,\n",
       "         0.    +0.000e+00j,  0.    +0.000e+00j,  0.    +0.000e+00j,\n",
       "         0.    +0.000e+00j,  0.    +0.000e+00j,  0.    +0.000e+00j,\n",
       "         0.    +0.000e+00j,  0.    +0.000e+00j,  0.    +0.000e+00j,\n",
       "         0.    +0.000e+00j,  0.    +0.000e+00j,  0.    +0.000e+00j,\n",
       "         0.    +0.000e+00j,  0.    +0.000e+00j,  0.    +0.000e+00j,\n",
       "         0.    +0.000e+00j,  0.    +0.000e+00j,  0.    +0.000e+00j,\n",
       "         0.    +0.000e+00j,  0.    +0.000e+00j,  0.    +0.000e+00j,\n",
       "         0.    +0.000e+00j]])"
      ]
     },
     "execution_count": 15,
     "metadata": {},
     "output_type": "execute_result"
    }
   ],
   "source": [
    "np.round(result['eigvecs'], 4)"
   ]
  },
  {
   "cell_type": "code",
   "execution_count": 17,
   "metadata": {
    "collapsed": false,
    "deletable": true,
    "editable": true
   },
   "outputs": [
    {
     "data": {
      "text/plain": [
       "71"
      ]
     },
     "execution_count": 17,
     "metadata": {},
     "output_type": "execute_result"
    }
   ],
   "source": [
    "result['eval_count']"
   ]
  },
  {
   "cell_type": "code",
   "execution_count": null,
   "metadata": {
    "collapsed": true
   },
   "outputs": [],
   "source": []
  }
 ],
 "metadata": {
  "kernelspec": {
   "display_name": "Python 3",
   "language": "python",
   "name": "python3"
  },
  "language_info": {
   "codemirror_mode": {
    "name": "ipython",
    "version": 3
   },
   "file_extension": ".py",
   "mimetype": "text/x-python",
   "name": "python",
   "nbconvert_exporter": "python",
   "pygments_lexer": "ipython3",
   "version": "3.6.1"
  }
 },
 "nbformat": 4,
 "nbformat_minor": 2
}
