{
 "cells": [
  {
   "cell_type": "code",
   "execution_count": 1,
   "metadata": {},
   "outputs": [],
   "source": [
    "import time\n",
    "# Import the Qiskit modules(Qiskit Terra)\n",
    "from qiskit import QuantumCircuit, ClassicalRegister, QuantumRegister, QISKitError\n",
    "from qiskit import QISKitError,execute, IBMQ, Aer\n",
    "import numpy as np\n",
    "\n",
    "\n",
    "\n",
    "# Set your API Token.\n",
    "# You can get it from https://quantumexperience.ng.bluemix.net/qx/account,\n",
    "# looking for \"Personal Access Token\" section.\n",
    "QX_TOKEN = \"3e30646ac6c9ac8bae7e1ab0802d14f67ed3667a6aa12e2328a46043dd8102f83de09858a41b43bd0c35f8e44eb6eb46ed27046ea61363354599d8f3a79bfa02\"\n",
    "QX_URL = \"https://quantumexperience.ng.bluemix.net/api\"\n",
    "\n",
    "# Authenticate with the IBM Q API in order to use online devices.\n",
    "# You need the API Token and the QX URL.\n",
    "IBMQ.enable_account(QX_TOKEN, QX_URL)\n",
    "\n",
    "# import basic plot tools\n",
    "from qiskit.tools.visualization import plot_histogram"
   ]
  },
  {
   "cell_type": "code",
   "execution_count": 2,
   "metadata": {},
   "outputs": [
    {
     "name": "stdout",
     "output_type": "stream",
     "text": [
      "Your choice for the backend is:  qasm_simulator flag_qx2 is:  True\n"
     ]
    }
   ],
   "source": [
    "\"Choice of the backend\"\n",
    "# using local qasm simulator\n",
    "backend = Aer.get_backend('qasm_simulator')  \n",
    "\n",
    "# using IBMQ qasm simulator \n",
    "# backend = IBMQ.get_backend('ibmq_qasm_simulator')\n",
    "# using real device\n",
    "# backend = least_busy(IBMQ.backends(simulator=False))\n",
    "# backend = IBMQ.get_backend('ibmq_16_melbourne')\n",
    "\n",
    "flag_qx2 = True\n",
    "if backend.name() == 'ibmqx4':\n",
    "        flag_qx2 = False\n",
    "        \n",
    "print(\"Your choice for the backend is: \", backend, \"flag_qx2 is: \", flag_qx2)"
   ]
  },
  {
   "cell_type": "code",
   "execution_count": 5,
   "metadata": {},
   "outputs": [],
   "source": [
    "# Define a F_gate\n",
    "def F_gate(circ,q,i,j,n,k) :\n",
    "    theta = np.arccos(np.sqrt(1/(n-k+1)))\n",
    "    circ.ry(-theta,q[j])       \n",
    "    circ.cz(q[i],q[j])\n",
    "    circ.ry(theta,q[j])\n",
    "    circ.barrier(q[i])\n",
    "# Define the cxrv gate which uses reverse CNOT instead of CNOT\n",
    "def  cxrv(circ,q,i,j) :\n",
    "    circ.h(q[i])\n",
    "    circ.h(q[j])\n",
    "    circ.cx(q[j],q[i])\n",
    "    circ.h(q[i])\n",
    "    circ.h(q[j])\n",
    "    circ.barrier(q[i],q[j])\n",
    "\n",
    "def wstategenrate(W_states) : \n",
    "# 3-qubit W state\n",
    "     \n",
    "    W_states.x(q[2]) #start is |100>\n",
    "    F_gate(W_states,q,2,1,3,1) # Applying F12\n",
    "    F_gate(W_states,q,1,0,3,2) # Applying F23\n",
    "\n",
    "    # option ibmqx4  \n",
    "    cxrv(W_states,q,1,2)\n",
    "    cxrv(W_states,q,0,1)\n",
    "    return W_states"
   ]
  },
  {
   "cell_type": "code",
   "execution_count": 7,
   "metadata": {},
   "outputs": [
    {
     "name": "stdout",
     "output_type": "stream",
     "text": [
      "start W state 3-qubit on qasm_simulator N= 8192 28/02/2019 07:25:56\n",
      "end   W state 3-qubit on qasm_simulator N= 8192 28/02/2019 07:25:57\n"
     ]
    },
    {
     "data": {
      "image/png": "[encoded data removed]",
      "text/plain": [
       "<Figure size 504x360 with 1 Axes>"
      ]
     },
     "execution_count": 7,
     "metadata": {},
     "output_type": "execute_result"
    }
   ],
   "source": [
    "n = 3\n",
    "q = QuantumRegister(n)\n",
    "c = ClassicalRegister(n)\n",
    "W_states = QuantumCircuit(q,c)\n",
    "wstate = wstategenrate(W_states)\n",
    "\n",
    "for i in range(3) :\n",
    "    wstate.measure(q[i] , c[i]) \n",
    "\n",
    "shots = 8192\n",
    "time_exp = time.strftime('%d/%m/%Y %H:%M:%S')\n",
    "print('start W state 3-qubit on', backend, \"N=\", shots,time_exp)\n",
    "result = execute(wstate, backend=backend, shots=shots)\n",
    "time_exp = time.strftime('%d/%m/%Y %H:%M:%S')\n",
    "print('end   W state 3-qubit on', backend, \"N=\", shots,time_exp)\n",
    "plot_histogram(result.result().get_counts(W_states))"
   ]
  },
  {
   "cell_type": "code",
   "execution_count": null,
   "metadata": {},
   "outputs": [],
   "source": [
    "W_states.draw(output=\"mpl\")"
   ]
  },
  {
   "cell_type": "code",
   "execution_count": null,
   "metadata": {},
   "outputs": [],
   "source": []
  }
 ],
 "metadata": {
  "kernelspec": {
   "display_name": "Python 3",
   "language": "python",
   "name": "python3"
  },
  "language_info": {
   "codemirror_mode": {
    "name": "ipython",
    "version": 3
   },
   "file_extension": ".py",
   "mimetype": "text/x-python",
   "name": "python",
   "nbconvert_exporter": "python",
   "pygments_lexer": "ipython3",
   "version": "3.7.1"
  }
 },
 "nbformat": 4,
 "nbformat_minor": 2
}
