{
 "cells": [
  {
   "cell_type": "code",
   "execution_count": 1,
   "metadata": {},
   "outputs": [],
   "source": [
    "from functools import reduce\n",
    "from itertools import product\n",
    "\n",
    "from qiskit import BasicAer, QuantumRegister\n",
    "from qiskit_aqua import QuantumInstance\n",
    "from qiskit_aqua import Operator, run_algorithm\n",
    "from qiskit.quantum_info import Pauli\n",
    "from qiskit_aqua.components.optimizers import COBYLA\n",
    "from qiskit_aqua.components.initial_states import Custom\n",
    "\n",
    "from constrainedqaoa import constrainedQAOA\n",
    "\n",
    "import numpy as np\n",
    "import qutip as qt"
   ]
  },
  {
   "cell_type": "markdown",
   "metadata": {},
   "source": [
    "Initial parameter setting\n",
    "---"
   ]
  },
  {
   "cell_type": "code",
   "execution_count": 14,
   "metadata": {},
   "outputs": [],
   "source": [
    "edges = [(0, 1), (1, 2), (2, 3)]\n",
    "vertices = max(reduce(lambda x, y: x + y, [list(edge) for edge in edges])) + 1\n",
    "colors   = 2\n",
    "n_qubits = vertices * colors\n",
    "\n",
    "zr = np.zeros(n_qubits)\n",
    "ws = np.eye(n_qubits)\n",
    "\n",
    "up = qt.basis(2, 0)\n",
    "dn = qt.basis(2, 1)"
   ]
  },
  {
   "cell_type": "markdown",
   "metadata": {},
   "source": [
    "First, prepare the initial state\n",
    "---\n",
    "Recall we want a tensor product of a (# of colors)-qubits W state for each vertex"
   ]
  },
  {
   "cell_type": "code",
   "execution_count": 15,
   "metadata": {},
   "outputs": [],
   "source": [
    "def W(size, copies):\n",
    "    initial_list = [dn] + [up] * (size - 1)\n",
    "    cycles = [[initial_list[i - j] for i in range(size)] for j in range(size)]\n",
    "    W_1copy = sum([qt.tensor(states) for states in cycles])\n",
    "    return qt.tensor([W_1copy] * copies)"
   ]
  },
  {
   "cell_type": "code",
   "execution_count": 16,
   "metadata": {},
   "outputs": [],
   "source": [
    "amplitudes = W(colors, vertices).full().T.tolist()[0]\n",
    "init_state = Custom(n_qubits, state_vector=amplitudes)"
   ]
  },
  {
   "cell_type": "markdown",
   "metadata": {},
   "source": [
    "Second, define the cost and mixer Hamiltonians, and assemble the QAOA\n",
    "---"
   ]
  },
  {
   "cell_type": "code",
   "execution_count": 17,
   "metadata": {},
   "outputs": [],
   "source": [
    "cost_operator = reduce(\n",
    "            lambda x, y: x + y,\n",
    "            [\n",
    "                Operator([[1, (Pauli(ws[colors*v1 + j, :], zr)\n",
    "                               *Pauli(ws[colors*v2 + j, :], zr))]])\n",
    "                for (v1, v2), j in product(edges, range(colors))\n",
    "            ]\n",
    ")\n",
    "\n",
    "mixer_operator = reduce(\n",
    "            lambda x, y: x + y,\n",
    "            [\n",
    "                Operator([[1, (Pauli(zr, ws[colors*i + j, :])\n",
    "                               *Pauli(zr, ws[colors*i + (j+1) % colors, :]))]]) +\n",
    "                Operator([[1, (Pauli(ws[colors*i + j % colors, :], ws[colors*i + j % colors, :])\n",
    "                               *Pauli(ws[colors*i + (j+1) % colors, :], ws[colors*i + (j+1) % colors, :]))]])\n",
    "                for i, j in product(range(vertices), range(colors))\n",
    "            ]\n",
    ")\n",
    "\n",
    "# Fix redundancies\n",
    "if colors == 2:\n",
    "    mixer_operator.scaling_coeff(1/2)"
   ]
  },
  {
   "cell_type": "code",
   "execution_count": 18,
   "metadata": {},
   "outputs": [],
   "source": [
    "cobyla = COBYLA()\n",
    "cobyla.set_options(maxiter=250)\n",
    "p = 1 # steps of QAOA\n",
    "constrained = constrainedQAOA(cost_operator, cobyla, mixer_operator, p, init_state)"
   ]
  },
  {
   "cell_type": "markdown",
   "metadata": {},
   "source": [
    "And finally, run\n",
    "---"
   ]
  },
  {
   "cell_type": "code",
   "execution_count": 19,
   "metadata": {},
   "outputs": [],
   "source": [
    "backend = BasicAer.get_backend('statevector_simulator')\n",
    "seed = 50\n",
    "constrained.random_seed = seed\n",
    "\n",
    "quantum_instance = QuantumInstance(backend=backend, seed=seed, seed_mapper=seed)\n",
    "\n",
    "result = constrained.run(quantum_instance)"
   ]
  },
  {
   "cell_type": "markdown",
   "metadata": {},
   "source": [
    "It is not possible to color a triangle with 2 colors, and the penalty should be 2"
   ]
  },
  {
   "cell_type": "code",
   "execution_count": 20,
   "metadata": {},
   "outputs": [
    {
     "data": {
      "text/plain": [
       "array([-3.5203443])"
      ]
     },
     "execution_count": 20,
     "metadata": {},
     "output_type": "execute_result"
    }
   ],
   "source": [
    "result['eigvals']"
   ]
  },
  {
   "cell_type": "markdown",
   "metadata": {},
   "source": [
    "The state that achieves this value is"
   ]
  },
  {
   "cell_type": "code",
   "execution_count": 21,
   "metadata": {},
   "outputs": [
    {
     "data": {
      "text/plain": [
       "array([[ 0.    +0.j    ,  0.    +0.j    ,  0.    +0.j    ,\n",
       "         0.    +0.j    ,  0.    +0.j    ,  0.    +0.j    ,\n",
       "         0.    +0.j    ,  0.    +0.j    ,  0.    +0.j    ,\n",
       "         0.    +0.j    ,  0.    +0.j    ,  0.    +0.j    ,\n",
       "         0.    +0.j    ,  0.    +0.j    ,  0.    +0.j    ,\n",
       "         0.    +0.j    ,  0.    +0.j    ,  0.    +0.j    ,\n",
       "         0.    +0.j    ,  0.    +0.j    ,  0.    +0.j    ,\n",
       "         0.    +0.j    ,  0.    +0.j    ,  0.    +0.j    ,\n",
       "         0.    +0.j    ,  0.    +0.j    ,  0.    +0.j    ,\n",
       "         0.    +0.j    ,  0.    +0.j    ,  0.    +0.j    ,\n",
       "         0.    +0.j    ,  0.    +0.j    ,  0.    +0.j    ,\n",
       "         0.    +0.j    ,  0.    +0.j    ,  0.    +0.j    ,\n",
       "         0.    +0.j    ,  0.    +0.j    ,  0.    +0.j    ,\n",
       "         0.    +0.j    ,  0.    +0.j    ,  0.    +0.j    ,\n",
       "         0.    +0.j    ,  0.    +0.j    ,  0.    +0.j    ,\n",
       "         0.    +0.j    ,  0.    +0.j    ,  0.    +0.j    ,\n",
       "         0.    +0.j    ,  0.    +0.j    ,  0.    +0.j    ,\n",
       "         0.    +0.j    ,  0.    +0.j    ,  0.    +0.j    ,\n",
       "         0.    +0.j    ,  0.    +0.j    ,  0.    +0.j    ,\n",
       "         0.    +0.j    ,  0.    +0.j    ,  0.    +0.j    ,\n",
       "         0.    +0.j    ,  0.    +0.j    ,  0.    +0.j    ,\n",
       "         0.    +0.j    ,  0.    +0.j    ,  0.    +0.j    ,\n",
       "         0.    +0.j    ,  0.    +0.j    ,  0.    +0.j    ,\n",
       "         0.    +0.j    ,  0.    +0.j    ,  0.    +0.j    ,\n",
       "         0.    +0.j    ,  0.    +0.j    ,  0.    +0.j    ,\n",
       "         0.    +0.j    ,  0.    +0.j    ,  0.    +0.j    ,\n",
       "         0.    +0.j    ,  0.    +0.j    ,  0.    +0.j    ,\n",
       "         0.    +0.j    ,  0.    +0.j    ,  0.    +0.j    ,\n",
       "         0.    +0.j    , -0.0935-0.0079j,  0.0031+0.0193j,\n",
       "         0.    +0.j    ,  0.    +0.j    ,  0.0407+0.2417j,\n",
       "         0.1078+0.0937j,  0.    +0.j    ,  0.    +0.j    ,\n",
       "         0.    +0.j    ,  0.    +0.j    ,  0.    +0.j    ,\n",
       "         0.    +0.j    ,  0.    +0.j    ,  0.    +0.j    ,\n",
       "         0.    +0.j    ,  0.    +0.j    ,  0.0407+0.2417j,\n",
       "        -0.0114+0.4782j,  0.    +0.j    ,  0.    +0.j    ,\n",
       "         0.1454+0.3161j,  0.0031+0.0193j,  0.    +0.j    ,\n",
       "         0.    +0.j    ,  0.    +0.j    ,  0.    +0.j    ,\n",
       "         0.    +0.j    ,  0.    +0.j    ,  0.    +0.j    ,\n",
       "         0.    +0.j    ,  0.    +0.j    ,  0.    +0.j    ,\n",
       "         0.    +0.j    ,  0.    +0.j    ,  0.    +0.j    ,\n",
       "         0.    +0.j    ,  0.    +0.j    ,  0.    +0.j    ,\n",
       "         0.    +0.j    ,  0.    +0.j    ,  0.    +0.j    ,\n",
       "         0.    +0.j    ,  0.    +0.j    ,  0.    +0.j    ,\n",
       "         0.    +0.j    ,  0.    +0.j    ,  0.    +0.j    ,\n",
       "         0.    +0.j    ,  0.    +0.j    ,  0.    +0.j    ,\n",
       "         0.    +0.j    ,  0.    +0.j    ,  0.    +0.j    ,\n",
       "         0.    +0.j    ,  0.    +0.j    ,  0.    +0.j    ,\n",
       "         0.    +0.j    ,  0.    +0.j    ,  0.    +0.j    ,\n",
       "         0.    +0.j    ,  0.    +0.j    ,  0.    +0.j    ,\n",
       "         0.    +0.j    ,  0.    +0.j    ,  0.0031+0.0193j,\n",
       "         0.1454+0.3161j,  0.    +0.j    ,  0.    +0.j    ,\n",
       "        -0.0114+0.4782j,  0.0407+0.2417j,  0.    +0.j    ,\n",
       "         0.    +0.j    ,  0.    +0.j    ,  0.    +0.j    ,\n",
       "         0.    +0.j    ,  0.    +0.j    ,  0.    +0.j    ,\n",
       "         0.    +0.j    ,  0.    +0.j    ,  0.    +0.j    ,\n",
       "         0.1078+0.0937j,  0.0407+0.2417j,  0.    +0.j    ,\n",
       "         0.    +0.j    ,  0.0031+0.0193j, -0.0935-0.0079j,\n",
       "         0.    +0.j    ,  0.    +0.j    ,  0.    +0.j    ,\n",
       "         0.    +0.j    ,  0.    +0.j    ,  0.    +0.j    ,\n",
       "         0.    +0.j    ,  0.    +0.j    ,  0.    +0.j    ,\n",
       "         0.    +0.j    ,  0.    +0.j    ,  0.    +0.j    ,\n",
       "         0.    +0.j    ,  0.    +0.j    ,  0.    +0.j    ,\n",
       "         0.    +0.j    ,  0.    +0.j    ,  0.    +0.j    ,\n",
       "         0.    +0.j    ,  0.    +0.j    ,  0.    +0.j    ,\n",
       "         0.    +0.j    ,  0.    +0.j    ,  0.    +0.j    ,\n",
       "         0.    +0.j    ,  0.    +0.j    ,  0.    +0.j    ,\n",
       "         0.    +0.j    ,  0.    +0.j    ,  0.    +0.j    ,\n",
       "         0.    +0.j    ,  0.    +0.j    ,  0.    +0.j    ,\n",
       "         0.    +0.j    ,  0.    +0.j    ,  0.    +0.j    ,\n",
       "         0.    +0.j    ,  0.    +0.j    ,  0.    +0.j    ,\n",
       "         0.    +0.j    ,  0.    +0.j    ,  0.    +0.j    ,\n",
       "         0.    +0.j    ,  0.    +0.j    ,  0.    +0.j    ,\n",
       "         0.    +0.j    ,  0.    +0.j    ,  0.    +0.j    ,\n",
       "         0.    +0.j    ,  0.    +0.j    ,  0.    +0.j    ,\n",
       "         0.    +0.j    ,  0.    +0.j    ,  0.    +0.j    ,\n",
       "         0.    +0.j    ,  0.    +0.j    ,  0.    +0.j    ,\n",
       "         0.    +0.j    ,  0.    +0.j    ,  0.    +0.j    ,\n",
       "         0.    +0.j    ,  0.    +0.j    ,  0.    +0.j    ,\n",
       "         0.    +0.j    ,  0.    +0.j    ,  0.    +0.j    ,\n",
       "         0.    +0.j    ,  0.    +0.j    ,  0.    +0.j    ,\n",
       "         0.    +0.j    ,  0.    +0.j    ,  0.    +0.j    ,\n",
       "         0.    +0.j    ,  0.    +0.j    ,  0.    +0.j    ,\n",
       "         0.    +0.j    ,  0.    +0.j    ,  0.    +0.j    ,\n",
       "         0.    +0.j    ,  0.    +0.j    ,  0.    +0.j    ,\n",
       "         0.    +0.j    ,  0.    +0.j    ,  0.    +0.j    ,\n",
       "         0.    +0.j    ]])"
      ]
     },
     "execution_count": 21,
     "metadata": {},
     "output_type": "execute_result"
    }
   ],
   "source": [
    "np.round(result['eigvecs'], 4)"
   ]
  },
  {
   "cell_type": "code",
   "execution_count": 23,
   "metadata": {},
   "outputs": [],
   "source": [
    "np.savetxt('4_line_2colors_p1', result['eigvecs'][0])"
   ]
  },
  {
   "cell_type": "code",
   "execution_count": null,
   "metadata": {},
   "outputs": [],
   "source": []
  }
 ],
 "metadata": {
  "kernelspec": {
   "display_name": "Python 3",
   "language": "python",
   "name": "python3"
  },
  "language_info": {
   "codemirror_mode": {
    "name": "ipython",
    "version": 3
   },
   "file_extension": ".py",
   "mimetype": "text/x-python",
   "name": "python",
   "nbconvert_exporter": "python",
   "pygments_lexer": "ipython3",
   "version": "3.6.5"
  }
 },
 "nbformat": 4,
 "nbformat_minor": 2
}
